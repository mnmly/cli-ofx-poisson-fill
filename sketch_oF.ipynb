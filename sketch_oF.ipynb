{
  "nbformat": 4,
  "nbformat_minor": 0,
  "metadata": {
    "colab": {
      "provenance": [],
      "collapsed_sections": [
        "_JP1IOC3vGsg",
        "uOOxJq-EvPFr"
      ],
      "authorship_tag": "ABX9TyOzmVeo0Q8oAiC3fyRMnR82",
      "include_colab_link": true
    },
    "kernelspec": {
      "name": "python3",
      "display_name": "Python 3"
    },
    "language_info": {
      "name": "python"
    },
    "accelerator": "GPU",
    "gpuClass": "standard"
  },
  "cells": [
    {
      "cell_type": "markdown",
      "metadata": {
        "id": "view-in-github",
        "colab_type": "text"
      },
      "source": [
        "<a href=\"https://colab.research.google.com/github/mnmly/cli-ofx-poisson-fill/blob/main/sketch_oF.ipynb\" target=\"_parent\"><img src=\"https://colab.research.google.com/assets/colab-badge.svg\" alt=\"Open In Colab\"/></a>"
      ]
    },
    {
      "cell_type": "markdown",
      "source": [
        "### Downloading openFrameworks and ofxPoissonFill addon\n"
      ],
      "metadata": {
        "id": "_JP1IOC3vGsg"
      }
    },
    {
      "cell_type": "code",
      "execution_count": null,
      "metadata": {
        "id": "2dkZ0J8V483N"
      },
      "outputs": [],
      "source": [
        "%%capture\n",
        "!wget https://github.com/openframeworks/openFrameworks/releases/download/0.11.2/of_v0.11.2_linux64gcc6_release.tar.gz\n",
        "!tar -xvzf of_v0.11.2_linux64gcc6_release.tar.gz\n",
        "!git clone https://github.com/LingDong-/ofxPoissonFill.git\n",
        "!cp -r /content/ofxPoissonFill /content/of_v0.11.2_linux64gcc6_release/addon\n"
      ]
    },
    {
      "cell_type": "markdown",
      "source": [
        "### Installing virtual display\n"
      ],
      "metadata": {
        "id": "uOOxJq-EvPFr"
      }
    },
    {
      "cell_type": "code",
      "source": [
        "!apt-get install -y xvfb # Install X Virtual Frame Buffer\n",
        "!pip install pyvirtualdisplay"
      ],
      "metadata": {
        "id": "h14LhjmSvPf1"
      },
      "execution_count": null,
      "outputs": []
    },
    {
      "cell_type": "markdown",
      "source": [
        "### Install dependencies for oF and compile\n"
      ],
      "metadata": {
        "id": "k0wBH_syviR1"
      }
    },
    {
      "cell_type": "code",
      "source": [
        "!/content/of_v0.11.2_linux64gcc6_release/scripts/linux/ubuntu/install_dependencies.sh\n",
        "# %%capture\n",
        "!/content/of_v0.11.2_linux64gcc6_release/scripts/linux/compileOF.sh"
      ],
      "metadata": {
        "id": "nFFgdbCG8d_1"
      },
      "execution_count": null,
      "outputs": []
    },
    {
      "cell_type": "code",
      "source": [],
      "metadata": {
        "id": "epj21xs35KPo"
      },
      "execution_count": null,
      "outputs": []
    },
    {
      "cell_type": "code",
      "source": [
        "!mkdir /content/of_v0.11.2_linux64gcc6_release/apps/myApps/emptyExample/bin/data\n",
        "!cp /content/ofxPoissonFill/example/bin/data/un_poisson.png /content/of_v0.11.2_linux64gcc6_release/apps/myApps/emptyExample/bin/data"
      ],
      "metadata": {
        "id": "M84dcLQh5pTL"
      },
      "execution_count": null,
      "outputs": []
    },
    {
      "cell_type": "markdown",
      "source": [
        "### Compile the app"
      ],
      "metadata": {
        "id": "HgMn7sXlv01n"
      }
    },
    {
      "cell_type": "code",
      "source": [
        "%cd /content/of_v0.11.2_linux64gcc6_release/apps/myApps/emptyExample/\n",
        "!make clean\n",
        "!make"
      ],
      "metadata": {
        "id": "Npc1npj68lBz"
      },
      "execution_count": null,
      "outputs": []
    },
    {
      "cell_type": "markdown",
      "source": [
        "### Run the app with virtual display"
      ],
      "metadata": {
        "id": "xyOScDogv20B"
      }
    },
    {
      "cell_type": "code",
      "source": [
        "from pyvirtualdisplay import Display\n",
        "display = Display(visible=0, size=(400, 300))\n",
        "display.start()\n",
        "\n",
        "!/content/of_v0.11.2_linux64gcc6_release/apps/myApps/emptyExample/bin/emptyExample\\\n",
        "    /content/of_v0.11.2_linux64gcc6_release/apps/myApps/emptyExample/bin/data/un_poisson.png\\\n",
        "    /content/of_v0.11.2_linux64gcc6_release/apps/myApps/emptyExample/bin/data/out.png\n",
        "\n",
        "%matplotlib inline\n",
        "from PIL import Image\n",
        "Image.open('/content/of_v0.11.2_linux64gcc6_release/apps/myApps/emptyExample/bin/data/image.png')\n"
      ],
      "metadata": {
        "id": "v5ka7pcDgegL"
      },
      "execution_count": null,
      "outputs": []
    },
    {
      "cell_type": "code",
      "source": [],
      "metadata": {
        "colab": {
          "base_uri": "https://localhost:8080/",
          "height": 17
        },
        "id": "2zvCsNzel1-e",
        "outputId": "cd4a6947-8f19-4a08-9261-e042cd212145"
      },
      "execution_count": 15,
      "outputs": [
        {
          "output_type": "display_data",
          "data": {
            "text/plain": [
              "<IPython.core.display.Javascript object>"
            ],
            "application/javascript": [
              "\n",
              "    async function download(id, filename, size) {\n",
              "      if (!google.colab.kernel.accessAllowed) {\n",
              "        return;\n",
              "      }\n",
              "      const div = document.createElement('div');\n",
              "      const label = document.createElement('label');\n",
              "      label.textContent = `Downloading \"${filename}\": `;\n",
              "      div.appendChild(label);\n",
              "      const progress = document.createElement('progress');\n",
              "      progress.max = size;\n",
              "      div.appendChild(progress);\n",
              "      document.body.appendChild(div);\n",
              "\n",
              "      const buffers = [];\n",
              "      let downloaded = 0;\n",
              "\n",
              "      const channel = await google.colab.kernel.comms.open(id);\n",
              "      // Send a message to notify the kernel that we're ready.\n",
              "      channel.send({})\n",
              "\n",
              "      for await (const message of channel.messages) {\n",
              "        // Send a message to notify the kernel that we're ready.\n",
              "        channel.send({})\n",
              "        if (message.buffers) {\n",
              "          for (const buffer of message.buffers) {\n",
              "            buffers.push(buffer);\n",
              "            downloaded += buffer.byteLength;\n",
              "            progress.value = downloaded;\n",
              "          }\n",
              "        }\n",
              "      }\n",
              "      const blob = new Blob(buffers, {type: 'application/binary'});\n",
              "      const a = document.createElement('a');\n",
              "      a.href = window.URL.createObjectURL(blob);\n",
              "      a.download = filename;\n",
              "      div.appendChild(a);\n",
              "      a.click();\n",
              "      div.remove();\n",
              "    }\n",
              "  "
            ]
          },
          "metadata": {}
        },
        {
          "output_type": "display_data",
          "data": {
            "text/plain": [
              "<IPython.core.display.Javascript object>"
            ],
            "application/javascript": [
              "download(\"download_7eb5ff65-4a46-4348-8f86-0fefd85a6b05\", \"emptyExample.zip\", 41367121)"
            ]
          },
          "metadata": {}
        }
      ]
    }
  ]
}